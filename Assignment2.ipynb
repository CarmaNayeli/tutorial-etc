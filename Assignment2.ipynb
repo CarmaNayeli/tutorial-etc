{
 "cells": [
  {
   "cell_type": "code",
   "execution_count": 1,
   "id": "5017d75a-c205-4fc2-a2c3-b4597f56a9d2",
   "metadata": {},
   "outputs": [
    {
     "name": "stdout",
     "output_type": "stream",
     "text": [
      "The result of the calculation was:\n",
      "\t 149769\n"
     ]
    }
   ],
   "source": [
    "# Assign given static values\n",
    "num1 = 100\n",
    "num2 = 29\n",
    "\n",
    "#calculate the solution based on the given equation\n",
    "result = ((num1 + num2) * 3) ** 2\n",
    "\n",
    "#print the result\n",
    "print(\"The result of the calculation was:\\n\\t\", result)"
   ]
  },
  {
   "cell_type": "code",
   "execution_count": 2,
   "id": "c94c97c6-b745-4997-bdf6-633a1491e317",
   "metadata": {},
   "outputs": [
    {
     "name": "stdout",
     "output_type": "stream",
     "text": [
      "Name:\n"
     ]
    },
    {
     "name": "stdin",
     "output_type": "stream",
     "text": [
      " John\n"
     ]
    },
    {
     "name": "stdout",
     "output_type": "stream",
     "text": [
      "Year of Birth:\n"
     ]
    },
    {
     "name": "stdin",
     "output_type": "stream",
     "text": [
      " 1995\n"
     ]
    },
    {
     "name": "stdout",
     "output_type": "stream",
     "text": [
      "Age:\n"
     ]
    },
    {
     "name": "stdin",
     "output_type": "stream",
     "text": [
      " 26\n"
     ]
    },
    {
     "name": "stdout",
     "output_type": "stream",
     "text": [
      "Password:  95Joh676\n"
     ]
    }
   ],
   "source": [
    "# Ask user for name, year of birth, and age\n",
    "print(\"Name:\")\n",
    "name = input()\n",
    "print(\"Year of Birth:\")\n",
    "year = input()\n",
    "print(\"Age:\")\n",
    "age = int(input())\n",
    "\n",
    "#Calculate the second power of the age and convert the result to str\n",
    "age = str(age ** 2)\n",
    "\n",
    "# Form passowrd based on input and print result\n",
    "password = year[2] + year[3] + name[0:3] + age\n",
    "print(\"Password: \", password)"
   ]
  },
  {
   "cell_type": "code",
   "execution_count": 3,
   "id": "f43cc8a9-edf4-4862-9142-59cc5fe1fbd8",
   "metadata": {},
   "outputs": [
    {
     "name": "stdin",
     "output_type": "stream",
     "text": [
      " 5\n",
      " 6\n"
     ]
    },
    {
     "name": "stdout",
     "output_type": "stream",
     "text": [
      "One of the numbers is even\n"
     ]
    }
   ],
   "source": [
    "# Ask user for two numbers\n",
    "num1 = int(input())\n",
    "num2 = int(input())\n",
    "\n",
    "# Determine if each number is odd or even using modulo function\n",
    "if (num1 % 2 == 0):\n",
    "    result1 = str(\"even\")\n",
    "else:\n",
    "    result1 = str(\"odd\")\n",
    "\n",
    "if (num2 % 2 == 0):\n",
    "    result2 = str(\"even\")\n",
    "else:\n",
    "    result2 = str(\"odd\")\n",
    "\n",
    "# Compare results and print whether they are both odd, both even, or if only one is even\n",
    "if (result1 == result2):\n",
    "    if(result1 == \"even\"):\n",
    "        print(\"Both numbers are even\")\n",
    "    else:\n",
    "        print(\"Both numbers are odd\")\n",
    "else:\n",
    "    print(\"One of the numbers is even\")"
   ]
  },
  {
   "cell_type": "code",
   "execution_count": 4,
   "id": "1efc2221-5bf8-4e70-ac16-c652737c9268",
   "metadata": {},
   "outputs": [
    {
     "name": "stdout",
     "output_type": "stream",
     "text": [
      "Give an integer:\n"
     ]
    },
    {
     "name": "stdin",
     "output_type": "stream",
     "text": [
      " 5\n"
     ]
    },
    {
     "name": "stdout",
     "output_type": "stream",
     "text": [
      "The sum was:  10\n"
     ]
    }
   ],
   "source": [
    "# Prompt user for an integer, num\n",
    "print(\"Give an integer:\")\n",
    "num = int(input())\n",
    "\n",
    "# Make an integral variable equal to num and set the result variable to 0\n",
    "i = num \n",
    "result = 0\n",
    "\n",
    "# Use integral variable in a while loop to add each descending number to result\n",
    "while (i > 1):\n",
    "    result += num - 1\n",
    "    num = num - 1\n",
    "    i = i - 1\n",
    "\n",
    "# Print the result\n",
    "print(\"The sum was: \", result)"
   ]
  },
  {
   "cell_type": "code",
   "execution_count": 5,
   "id": "148000eb-f03a-4504-a441-0c70e1394335",
   "metadata": {},
   "outputs": [
    {
     "name": "stdout",
     "output_type": "stream",
     "text": [
      "Player: \n"
     ]
    },
    {
     "name": "stdin",
     "output_type": "stream",
     "text": [
      " 5\n"
     ]
    },
    {
     "name": "stdout",
     "output_type": "stream",
     "text": [
      "Try a smaller number.\n",
      "Player: \n"
     ]
    },
    {
     "name": "stdin",
     "output_type": "stream",
     "text": [
      " 4\n"
     ]
    },
    {
     "name": "stdout",
     "output_type": "stream",
     "text": [
      "Try a smaller number.\n",
      "Player: \n"
     ]
    },
    {
     "name": "stdin",
     "output_type": "stream",
     "text": [
      " 3\n"
     ]
    },
    {
     "name": "stdout",
     "output_type": "stream",
     "text": [
      "That's right! Number of tries:  3\n"
     ]
    }
   ],
   "source": [
    "# import library \"random\" in order to generate random numbers\n",
    "import random\n",
    "\n",
    "#set variable dealer to a random number between 0 and 10\n",
    "dealer = random.randint(0,10)\n",
    "# set number of tries to 0\n",
    "numTries = 0\n",
    "# Set integral variable to FALSE\n",
    "i = bool(False)\n",
    "\n",
    "# Set a while loop so that it will exit when the integral variable is set to true\n",
    "while (i != True):\n",
    "    # increment the number of tries by 1 for each time the loop resets\n",
    "    numTries = numTries + 1\n",
    "    # Prompt user for a new number and set it to the variable player\n",
    "    print(\"Player: \") \n",
    "    player = int(input())\n",
    "    # Determine if the player number is the same as the dealer number\n",
    "    if (player > dealer):\n",
    "        print(\"Try a smaller number.\")\n",
    "    elif (player < dealer):\n",
    "        print(\"Try a greater number.\")\n",
    "    elif (player == dealer):\n",
    "        # when the numbers are the same, set integral variable to TRUE to exit loop\n",
    "        i = True\n",
    "        \n",
    "# Print result\n",
    "print(\"That's right! Number of tries: \", numTries)"
   ]
  },
  {
   "cell_type": "code",
   "execution_count": 6,
   "id": "e9c86420-1b7e-4709-b59b-8a6b7200fe95",
   "metadata": {},
   "outputs": [
    {
     "name": "stdout",
     "output_type": "stream",
     "text": [
      "Player1: \n"
     ]
    },
    {
     "name": "stdin",
     "output_type": "stream",
     "text": [
      " 4\n"
     ]
    },
    {
     "name": "stdout",
     "output_type": "stream",
     "text": [
      "Try a greater number.\n",
      "Player1: \n"
     ]
    },
    {
     "name": "stdin",
     "output_type": "stream",
     "text": [
      " 5\n"
     ]
    },
    {
     "name": "stdout",
     "output_type": "stream",
     "text": [
      "Try a greater number.\n",
      "Player1: \n"
     ]
    },
    {
     "name": "stdin",
     "output_type": "stream",
     "text": [
      " 6\n"
     ]
    },
    {
     "name": "stdout",
     "output_type": "stream",
     "text": [
      "Try a greater number.\n",
      "Player1: \n"
     ]
    },
    {
     "name": "stdin",
     "output_type": "stream",
     "text": [
      " 7\n"
     ]
    },
    {
     "name": "stdout",
     "output_type": "stream",
     "text": [
      "Try a greater number.\n",
      "Player1: \n"
     ]
    },
    {
     "name": "stdin",
     "output_type": "stream",
     "text": [
      " 8\n"
     ]
    },
    {
     "name": "stdout",
     "output_type": "stream",
     "text": [
      "Try a greater number.\n",
      "Player1: \n"
     ]
    },
    {
     "name": "stdin",
     "output_type": "stream",
     "text": [
      " 9\n"
     ]
    },
    {
     "name": "stdout",
     "output_type": "stream",
     "text": [
      "Try a greater number.\n",
      "Player1: \n"
     ]
    },
    {
     "name": "stdin",
     "output_type": "stream",
     "text": [
      " 10\n"
     ]
    },
    {
     "name": "stdout",
     "output_type": "stream",
     "text": [
      "That's right! Number of tries:  7\n",
      "Player2: \n"
     ]
    },
    {
     "name": "stdin",
     "output_type": "stream",
     "text": [
      " 9\n"
     ]
    },
    {
     "name": "stdout",
     "output_type": "stream",
     "text": [
      "Try a smaller number.\n",
      "Player2: \n"
     ]
    },
    {
     "name": "stdin",
     "output_type": "stream",
     "text": [
      " 5\n"
     ]
    },
    {
     "name": "stdout",
     "output_type": "stream",
     "text": [
      "Try a smaller number.\n",
      "Player2: \n"
     ]
    },
    {
     "name": "stdin",
     "output_type": "stream",
     "text": [
      " 2\n"
     ]
    },
    {
     "name": "stdout",
     "output_type": "stream",
     "text": [
      "Try a greater number.\n",
      "Player2: \n"
     ]
    },
    {
     "name": "stdin",
     "output_type": "stream",
     "text": [
      " 3\n"
     ]
    },
    {
     "name": "stdout",
     "output_type": "stream",
     "text": [
      "That's right! Number of tries:  4\n",
      "Winner is Player 2!\n"
     ]
    }
   ],
   "source": [
    "# import library \"random\" in order to generate random numbers\n",
    "import random\n",
    "\n",
    "#set variable dealer to a random number between 0 and 10\n",
    "dealer = random.randint(0,10)\n",
    "# set number of tries for player 1 to 0\n",
    "numTries1 = 0\n",
    "# Set integral variable to FALSE\n",
    "i = bool(False)\n",
    "\n",
    "# Set a while loop so that it will exit when the integral variable is set to true\n",
    "\n",
    "while (i != True):\n",
    "    # increment the number of tries by 1 for each time the loop resets\n",
    "    numTries1 = numTries1 + 1\n",
    "    # Prompt user for a new number and set it to the variable player\n",
    "    print(\"Player1: \") \n",
    "    player1 = int(input())\n",
    "    # Determine if the player number is the same as the dealer number\n",
    "    if (player1 > dealer):\n",
    "        print(\"Try a smaller number.\")\n",
    "    elif (player1 < dealer):\n",
    "        print(\"Try a greater number.\")\n",
    "    elif (player1 == dealer):\n",
    "        # when the numbers are the same, set integral variable to TRUE to exit loop\n",
    "        i = True\n",
    "\n",
    "# Print result for player 1\n",
    "print(\"That's right! Number of tries: \", numTries1)\n",
    "\n",
    "# Reset dealer variable to a new random number and set the number of tries for player 2 to 0\n",
    "dealer = random.randint(0,10)\n",
    "numTries2 = 0\n",
    "# Reset the integral variable to FALSE\n",
    "i = bool(False)\n",
    "\n",
    "# Set a while loop so that it will exit when the integral variable is set to true\n",
    "while (i != True):\n",
    "    # increment the number of tries by 1 for each time the loop resets\n",
    "    numTries2 = numTries2 + 1\n",
    "    # Prompt user for a new number and set it to the variable player\n",
    "    print(\"Player2: \") \n",
    "    player2 = int(input())\n",
    "    # Determine if the player number is the same as the dealer number\n",
    "    if (player2 > dealer):\n",
    "        print(\"Try a smaller number.\")\n",
    "    elif (player2 < dealer):\n",
    "        print(\"Try a greater number.\")\n",
    "    elif (player2 == dealer):\n",
    "        # when the numbers are the same, set integral variable to TRUE to exit loop\n",
    "        i = True\n",
    "        \n",
    "# Print result for player 2\n",
    "print(\"That's right! Number of tries: \", numTries2)\n",
    "\n",
    "# Determine who took fewer tries to find the correct number and print the winning player or declare a tie\n",
    "if(numTries1 < numTries2):\n",
    "    print(\"Winner is Player 1!\")\n",
    "elif(numTries1 == numTries2):\n",
    "    print(\"It was a tie!\")\n",
    "else:\n",
    "    print(\"Winner is Player 2!\")"
   ]
  },
  {
   "cell_type": "code",
   "execution_count": null,
   "id": "f2206f35-a0fc-4fa5-b87e-9cc8ff509e62",
   "metadata": {},
   "outputs": [],
   "source": []
  }
 ],
 "metadata": {
  "kernelspec": {
   "display_name": "Python [conda env:base] *",
   "language": "python",
   "name": "conda-base-py"
  },
  "language_info": {
   "codemirror_mode": {
    "name": "ipython",
    "version": 3
   },
   "file_extension": ".py",
   "mimetype": "text/x-python",
   "name": "python",
   "nbconvert_exporter": "python",
   "pygments_lexer": "ipython3",
   "version": "3.12.7"
  }
 },
 "nbformat": 4,
 "nbformat_minor": 5
}
